{
  "nbformat": 4,
  "nbformat_minor": 0,
  "metadata": {
    "colab": {
      "provenance": [],
      "private_outputs": true,
      "include_colab_link": true
    },
    "kernelspec": {
      "name": "python3",
      "display_name": "Python 3"
    },
    "language_info": {
      "name": "python"
    }
  },
  "cells": [
    {
      "cell_type": "markdown",
      "metadata": {
        "id": "view-in-github",
        "colab_type": "text"
      },
      "source": [
        "<a href=\"https://colab.research.google.com/github/fmind/gitworks/blob/main/GitWorks_Automatically_Review_GitHub_Projects_with_Your_Guidelines.ipynb\" target=\"_parent\"><img src=\"https://colab.research.google.com/assets/colab-badge.svg\" alt=\"Open In Colab\"/></a>"
      ]
    },
    {
      "cell_type": "markdown",
      "source": [
        "# SETUP"
      ],
      "metadata": {
        "id": "oQk0cxSq3Mso"
      }
    },
    {
      "cell_type": "markdown",
      "source": [
        "## GitHub\n",
        "\n",
        "1.  **Get Token:**\n",
        "    * Generate a **Fine-grained Personal Access Token** from [GitHub Developer Settings](https://github.com/settings/personal-access-tokens).\n",
        "    * Grant access to the target repository (or all repositories).\n",
        "    * Required **Repository Permissions**:\n",
        "        * `Contents`: **Read-only**\n",
        "        * `Issues`: **Read & write** (needed if `CREATE_ISSUE` is `True`)\n",
        "        * `Metadata`: **Read-only**\n",
        "    * **Copy the token immediately** after generation.\n",
        "\n",
        "2.  **Store Token in Colab:**\n",
        "    * Click the **Key icon** (🔑) in the left sidebar to open Secrets.\n",
        "    * Add a secret named `GITWORKS_GITHUB_ACCESS_TOKEN`.\n",
        "    * Paste your copied GitHub Token as the value.\n",
        "    * Ensure \"Notebook access\" is **enabled**."
      ],
      "metadata": {
        "id": "U8GcTTFU3TOd"
      }
    },
    {
      "cell_type": "markdown",
      "source": [
        "## Gemini\n",
        "\n",
        "1.  **Get API Key:**\n",
        "    * Obtain an API key from [Google AI Studio](https://makersuite.google.com/app/apikey).\n",
        "    * You might need to create a new project first.\n",
        "    * **Copy the API key immediately**.\n",
        "\n",
        "2.  **Store Key in Colab:**\n",
        "    * Click the **Key icon** (🔑) in the left sidebar to open Secrets.\n",
        "    * Add a new secret named `GITWORKS_GEMINI_API_KEY`.\n",
        "    * Paste your copied Gemini API Key as the value.\n",
        "    * Ensure \"Notebook access\" is **enabled**.\n"
      ],
      "metadata": {
        "id": "X5RCl4ETJDAl"
      }
    },
    {
      "cell_type": "markdown",
      "source": [
        "# CONFIGS"
      ],
      "metadata": {
        "id": "nGOcF2J830Y8"
      }
    },
    {
      "cell_type": "code",
      "source": [
        "# @title Generative AI\n",
        "\n",
        "MODEL = \"gemini-2.0-flash\" # @param {\"type\":\"string\"}\n",
        "TEMPERATURE = 0.0 # @param {\"type\":\"slider\",\"min\":0,\"max\":2,\"step\":0.1}\n",
        "MAX_OUTPUT_TOKENS = 10000 # @param {\"type\":\"integer\"}"
      ],
      "metadata": {
        "id": "X7hvb20Q5Z-u"
      },
      "execution_count": null,
      "outputs": []
    },
    {
      "cell_type": "code",
      "source": [
        "# @title App\n",
        "\n",
        "REPOSITORY = \"fmind/mlops-python-package\" # @param {\"type\":\"string\"}\n",
        "CREATE_ISSUE = True # @param {\"type\":\"boolean\"}"
      ],
      "metadata": {
        "id": "YSDnmIom5eV6"
      },
      "execution_count": null,
      "outputs": []
    },
    {
      "cell_type": "markdown",
      "source": [
        "# INSTALLS"
      ],
      "metadata": {
        "id": "3Ggl9EG47ymm"
      }
    },
    {
      "cell_type": "markdown",
      "source": [
        "## Python"
      ],
      "metadata": {
        "id": "E_HK_WS2714r"
      }
    },
    {
      "cell_type": "code",
      "source": [
        "%pip install PyGithub"
      ],
      "metadata": {
        "id": "LhOeblXAAM8W"
      },
      "execution_count": null,
      "outputs": []
    },
    {
      "cell_type": "markdown",
      "source": [
        "# IMPORTS"
      ],
      "metadata": {
        "id": "wrAU6fPoAL0F"
      }
    },
    {
      "cell_type": "markdown",
      "source": [
        "## Internal"
      ],
      "metadata": {
        "id": "bo4g79Tu8SO1"
      }
    },
    {
      "cell_type": "code",
      "source": [
        "import io\n",
        "import typing as t\n",
        "from pathlib import Path"
      ],
      "metadata": {
        "id": "LttQTWOy8UMc"
      },
      "execution_count": null,
      "outputs": []
    },
    {
      "cell_type": "markdown",
      "source": [
        "## External"
      ],
      "metadata": {
        "id": "NvRNdn0d8UZc"
      }
    },
    {
      "cell_type": "code",
      "execution_count": null,
      "metadata": {
        "id": "zlax3jlvusxv"
      },
      "outputs": [],
      "source": [
        "import github as gh\n",
        "import pydantic as pdt\n",
        "from google import genai\n",
        "from IPython import display\n",
        "from google.colab import userdata\n",
        "from google.genai import types as gt"
      ]
    },
    {
      "cell_type": "markdown",
      "source": [
        "# SECRETS"
      ],
      "metadata": {
        "id": "SFGTl13W8itJ"
      }
    },
    {
      "cell_type": "markdown",
      "source": [
        "# Github"
      ],
      "metadata": {
        "id": "aBJ3BP70_34v"
      }
    },
    {
      "cell_type": "code",
      "source": [
        "GITHUB_ACCESS_TOKEN = userdata.get(\"GITWORKS_GITHUB_ACCESS_TOKEN\")"
      ],
      "metadata": {
        "id": "VYFNvbt5ARdF"
      },
      "execution_count": null,
      "outputs": []
    },
    {
      "cell_type": "markdown",
      "source": [
        "## Gen AI"
      ],
      "metadata": {
        "id": "ZEpy7qoz__P4"
      }
    },
    {
      "cell_type": "code",
      "source": [
        "GEMINI_API_KEY = userdata.get(\"GITWORKS_GEMINI_API_KEY\")"
      ],
      "metadata": {
        "id": "SJ6Cu_gFAAgd"
      },
      "execution_count": null,
      "outputs": []
    },
    {
      "cell_type": "markdown",
      "source": [
        "## SERVICES"
      ],
      "metadata": {
        "id": "jK6z6eAA8_ZL"
      }
    },
    {
      "cell_type": "markdown",
      "source": [
        "## GitHub"
      ],
      "metadata": {
        "id": "e-PH70dg9BqF"
      }
    },
    {
      "cell_type": "code",
      "source": [
        "github_auth = gh.Auth.Token(GITHUB_ACCESS_TOKEN)\n",
        "github = gh.Github(auth=github_auth)"
      ],
      "metadata": {
        "id": "iaYXPDZp9CER"
      },
      "execution_count": null,
      "outputs": []
    },
    {
      "cell_type": "markdown",
      "source": [
        "## Gen AI"
      ],
      "metadata": {
        "id": "AdDbDbfu9Ceu"
      }
    },
    {
      "cell_type": "code",
      "source": [
        "genai_client = genai.Client(api_key=GEMINI_API_KEY)"
      ],
      "metadata": {
        "id": "DTUBmK8T9C0N"
      },
      "execution_count": null,
      "outputs": []
    },
    {
      "cell_type": "markdown",
      "source": [
        "# CONTENTS"
      ],
      "metadata": {
        "id": "JKJXY7hTvEXd"
      }
    },
    {
      "cell_type": "markdown",
      "source": [
        "## Guidelines"
      ],
      "metadata": {
        "id": "r6nYcWvkA8vq"
      }
    },
    {
      "cell_type": "code",
      "source": [
        "guidelines = \"\"\"\n",
        "## MLOps Code Repository Checklist\n",
        "\n",
        "This checklist helps assess the maturity of an MLOps project based on artifacts and configurations found within its GitHub repository.\n",
        "\n",
        "---\n",
        "\n",
        "### Level 1: Prototype\n",
        "\n",
        "_Focus: Basic functionality, primarily for project actors._\n",
        "\n",
        "- **Repository Initialization:** `.git` directory exists, indicating version control is used.\n",
        "- **Basic Code Structure:** Source code files exist (e.g., `.py` files or notebooks).\n",
        "- **Initial README:** A basic `README.md` file exists, perhaps with a project title and brief description.\n",
        "- **Environment/Dependency Listing (Basic):** A `requirements.txt` or initial `pyproject.toml` might exist, listing key dependencies.\n",
        "\n",
        "---\n",
        "\n",
        "### Level 2: Alpha\n",
        "\n",
        "_Focus: Improved structure, basic validation, ready for selected few._\n",
        "\n",
        "- **Package Structure:** Code organized into a package structure (e.g., within a `src/` directory with `__init__.py`).\n",
        "- **`pyproject.toml`:** Project metadata, dependencies, and tool configurations defined in `pyproject.toml`.\n",
        "- **`.gitignore`:** File exists and excludes common unnecessary files (e.g., `.venv`, `__pycache__`, cache directories, secrets).\n",
        "- **Basic Linting/Formatting Config:** Configuration for linters/formatters (e.g., Ruff) present in `pyproject.toml`.\n",
        "- **Basic Testing Setup:** `tests/` directory exists with test files (e.g., `test_*.py`). `pytest` configuration might be present in `pyproject.toml`.\n",
        "- **Pre-commit Hooks Config:** `.pre-commit-config.yaml` exists, potentially configured with basic hooks (e.g., whitespace, syntax checks, basic formatting/linting).\n",
        "- **Basic Containerization:** A `Dockerfile` exists for building a container image.\n",
        "- **Basic Documentation:** Docstrings present in key functions/classes. An expanded `README.md` with setup and usage instructions.\n",
        "- **License File:** `LICENSE.txt` (or similar) file exists.\n",
        "- **Task Automation (Optional):** A `justfile` or `tasks/` directory with automation scripts might exist.\n",
        "\n",
        "---\n",
        "\n",
        "### Level 3: Beta\n",
        "\n",
        "_Focus: Robust validation, CI/CD, basic releases, ready for a larger audience (low guarantee)._\n",
        "\n",
        "- **Typing Configuration:** Type checking tool (e.g., `mypy`) configured in `pyproject.toml`. Evidence of type hints in function/method signatures in the code.\n",
        "- **Comprehensive Testing:** Increased number of tests in `tests/`. Test coverage tool (e.g., `pytest-cov`) configured in `pyproject.toml`, potentially with a minimum coverage target.\n",
        "- **CI/CD Workflows (Checks):** Workflow files exist in `.github/workflows/` that automate checks (linting, type checking, testing, security scanning) on pull requests.\n",
        "- **Security Scanning Config:** Configuration for security scanners (e.g., `bandit`) present in `pyproject.toml` or CI workflow. `Dependabot` configuration (`dependabot.yml`) exists in `.github/`.\n",
        "- **Centralized Configurations:** Configuration files (e.g., YAML, TOML) exist, separate from code (e.g., in a `confs/` directory). Code uses a library (like OmegaConf) to load these configurations.\n",
        "- **Entrypoints Defined:** Script entrypoints defined in `pyproject.toml` (`[project.scripts]`).\n",
        "- **Basic Experiment Tracking Config:** Configuration or usage of an experiment tracking tool (like MLflow) visible in code or config files (e.g., `mlflow.set_tracking_uri`).\n",
        "- **Basic Model Registry Config:** Code includes steps to register models using a tool (like MLflow) (e.g., `mlflow.register_model`).\n",
        "- **Changelog:** `CHANGELOG.md` file exists.\n",
        "- **Contribution Guidelines:** `CONTRIBUTING.md` file exists.\n",
        "- **Reproducibility Basics:** Fixed random seeds used in relevant code sections. MLflow Project file (`MLproject`) exists.\n",
        "\n",
        "---\n",
        "\n",
        "### Level 4: GA (General Availability)\n",
        "\n",
        "_Focus: Rigorous processes, full automation, high guarantees for a large audience._\n",
        "\n",
        "- **Enforced Test Coverage:** CI workflow enforces a high minimum test coverage percentage (e.g., >80%).\n",
        "- **CI/CD Workflows (Build/Publish):** Workflow files exist in `.github/workflows/` that automate building artifacts (e.g., wheel files, Docker images) and publishing them on releases.\n",
        "- **Deterministic Builds:** Build process (e.g., in `justfile` or CI workflow) uses mechanisms like `--require-hashes` or lock files (`uv.lock`) to ensure deterministic package builds.\n",
        "- **Formal Release Management:** Git tags exist corresponding to release versions following a schema (e.g., SemVer). Release notes are present on the repository's releases page (verifiable via GitHub UI, not code alone, but tags are verifiable).\n",
        "- **Comprehensive Documentation:** Generated API documentation exists (e.g., in `docs/` folder, potentially hosted on GitHub Pages). README includes badges for build status, coverage, etc..\n",
        "- **Code of Conduct:** `CODE_OF_CONDUCT.md` file exists.\n",
        "- **Monitoring/Evaluation Artifacts:** Code includes jobs or scripts for model evaluation (e.g., using `mlflow.evaluate` or tools like `Evidently`) and potentially generates evaluation reports or artifacts.\n",
        "- **Lineage Tracking:** Use of lineage tracking features (e.g., `mlflow.log_input` with MLflow Datasets) visible in code.\n",
        "- **Explainability Artifacts:** Code includes jobs or scripts to generate model explanations (e.g., using SHAP) and saves these as artifacts.\n",
        "- **Infrastructure Metrics Logging:** Use of system metrics logging (e.g., `mlflow.start_run(log_system_metrics=True)`) visible in code.\n",
        "- **Project Template Usage (Optional):** Evidence of project generation from a template (e.g., presence of `.cruft.json` if using Cruft).\n",
        "\"\"\""
      ],
      "metadata": {
        "id": "j5eVIHq6CKQi"
      },
      "execution_count": null,
      "outputs": []
    },
    {
      "cell_type": "markdown",
      "source": [
        "## Repository"
      ],
      "metadata": {
        "id": "lKAj7FjSBCPM"
      }
    },
    {
      "cell_type": "code",
      "source": [
        "repository = github.get_repo(REPOSITORY)\n",
        "repository"
      ],
      "metadata": {
        "id": "VxnK6JqUBDfc"
      },
      "execution_count": null,
      "outputs": []
    },
    {
      "cell_type": "markdown",
      "source": [
        "## Contents"
      ],
      "metadata": {
        "id": "eS4cGRUICA_G"
      }
    },
    {
      "cell_type": "code",
      "source": [
        "contents = []\n",
        "stack = repository.get_contents(\"\")\n",
        "while stack:\n",
        "    content = stack.pop(0)\n",
        "    if content.type == \"dir\":\n",
        "        new_contents = repository.get_contents(content.path)\n",
        "        stack.extend(new_contents)\n",
        "    else:\n",
        "        contents.append(content)\n",
        "contents"
      ],
      "metadata": {
        "id": "EJA27A4FCG-q"
      },
      "execution_count": null,
      "outputs": []
    },
    {
      "cell_type": "markdown",
      "source": [
        "## String"
      ],
      "metadata": {
        "id": "T8-Vx8seCCrh"
      }
    },
    {
      "cell_type": "code",
      "source": [
        "string = io.StringIO()\n",
        "for content in contents:\n",
        "    path = content.path\n",
        "    try:\n",
        "        text = content.decoded_content.decode()\n",
        "        part = f\"--- file: {path} ---\\n{text}\\n\"\n",
        "        string.write(part)\n",
        "    except Exception as error:\n",
        "        print(f'[ERROR] Path: \"{path}\", Error: {error}')\n",
        "string = string.getvalue()\n",
        "print('Characters:', len(string))"
      ],
      "metadata": {
        "id": "8KKZVR1SDQU7"
      },
      "execution_count": null,
      "outputs": []
    },
    {
      "cell_type": "markdown",
      "source": [
        "# ANALYSIS"
      ],
      "metadata": {
        "id": "wkcFQulaECUL"
      }
    },
    {
      "cell_type": "markdown",
      "source": [
        "## Instructions"
      ],
      "metadata": {
        "id": "Ue8iDHn-CFqq"
      }
    },
    {
      "cell_type": "code",
      "source": [
        "instructions = f\"\"\"\n",
        "You are a Senior Software Engineer.\n",
        "Given the following guidelines, give a detailed review the repository content.\n",
        "Provide a general summary, and then lists the guidelines that need improvements and how to fix it.\n",
        "\n",
        "{guidelines}\n",
        "\"\"\""
      ],
      "metadata": {
        "id": "CQQZJJbuGsUv"
      },
      "execution_count": null,
      "outputs": []
    },
    {
      "cell_type": "markdown",
      "source": [
        "## Data Class"
      ],
      "metadata": {
        "id": "TGm2wHchEEyC"
      }
    },
    {
      "cell_type": "code",
      "source": [
        "class GitHubIssue(pdt.BaseModel):\n",
        "    \"\"\"GitHub Issue.\"\"\"\n",
        "    title: str\n",
        "    body: str"
      ],
      "metadata": {
        "id": "zVLWeULNF8Xb"
      },
      "execution_count": null,
      "outputs": []
    },
    {
      "cell_type": "markdown",
      "source": [
        "## Review"
      ],
      "metadata": {
        "id": "2wNml8YhEIkZ"
      }
    },
    {
      "cell_type": "code",
      "source": [
        "review = genai_client.models.generate_content(\n",
        "    model=MODEL,\n",
        "    contents=string,\n",
        "    config=gt.GenerateContentConfig(\n",
        "        temperature=TEMPERATURE,\n",
        "        max_output_tokens=MAX_OUTPUT_TOKENS,\n",
        "        system_instruction=instructions,\n",
        "        response_mime_type='application/json',\n",
        "        response_schema=GitHubIssue,\n",
        "    ),\n",
        ")\n",
        "print('Input tokens:', review.usage_metadata.prompt_token_count)\n",
        "print('Output tokens:', review.usage_metadata.candidates_token_count)\n",
        "display.display(display.Markdown(f\"# {review.parsed.title}\"))\n",
        "display.display(display.Markdown(review.parsed.body))"
      ],
      "metadata": {
        "id": "XGHM8EyyEG2-"
      },
      "execution_count": null,
      "outputs": []
    },
    {
      "cell_type": "code",
      "source": [
        "if CREATE_ISSUE:\n",
        "    issue = repository.create_issue(title=review.parsed.title, body=review.parsed.body)\n",
        "    print('Issue created:', issue.html_url)\n",
        "else:\n",
        "    print('Issue not created')"
      ],
      "metadata": {
        "id": "xoqaLdyCHUB0"
      },
      "execution_count": null,
      "outputs": []
    }
  ]
}